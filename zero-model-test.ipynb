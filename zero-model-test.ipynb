{
 "cells": [
  {
   "cell_type": "code",
   "execution_count": 1,
   "metadata": {},
   "outputs": [],
   "source": [
    "import matplotlib.pyplot as plt\n",
    "import csv\n",
    "import numpy as np\n",
    "import torch\n",
    "from torch import nn, optim"
   ]
  },
  {
   "cell_type": "code",
   "execution_count": 2,
   "metadata": {},
   "outputs": [],
   "source": [
    "from tqdm.notebook import tqdm"
   ]
  },
  {
   "cell_type": "code",
   "execution_count": 3,
   "metadata": {},
   "outputs": [],
   "source": [
    "import torch.nn.functional as F"
   ]
  },
  {
   "cell_type": "code",
   "execution_count": 4,
   "metadata": {},
   "outputs": [],
   "source": [
    "from torch.utils.data import Dataset, DataLoader"
   ]
  },
  {
   "cell_type": "code",
   "execution_count": 5,
   "metadata": {},
   "outputs": [],
   "source": [
    "if torch.cuda.is_available():\n",
    "    device = torch.device(\"cuda\")  "
   ]
  },
  {
   "cell_type": "code",
   "execution_count": 6,
   "metadata": {},
   "outputs": [],
   "source": [
    "dataset_train = list()\n",
    "\n",
    "\n",
    "# 1. Train Data Pairs\n",
    "with open('train_job/train.csv', 'r') as f:\n",
    "    csv_reader = csv.reader(f)\n",
    "    \n",
    "    for i, line in enumerate(csv_reader):\n",
    "\n",
    "        if i == 0:\n",
    "            pass\n",
    "        else:\n",
    "            dataset_train.append([line[0], line[1], int(line[2])])\n",
    "\n",
    "# 2. Job id to number/ Job tags\n",
    "\n",
    "job_dict = dict()\n",
    "\n",
    "with open('train_job/job_tags.csv', 'r') as f:\n",
    "    csv_reader = csv.reader(f)\n",
    "    \n",
    "    for i, line in enumerate(csv_reader):\n",
    "        \n",
    "        if i == 0:\n",
    "            pass\n",
    "        else:\n",
    "            try:\n",
    "                job_dict[line[0]].append(line[1])\n",
    "            except KeyError:\n",
    "                job_dict[line[0]] = [line[1]]\n",
    "                \n",
    "# 3. Job id to company code and size. Not using right now\n",
    "                \n",
    "company_set = set()\n",
    "jobs_set = set()\n",
    "company_size_set = set()\n",
    "job_id_to_com_size_dict = dict()\n",
    "\n",
    "scales = {'': 0, \n",
    "          '1-10': 1, \n",
    "          '11-50': 2, \n",
    "          '51-100': 3, \n",
    "          '101-200': 4, \n",
    "          '201-500': 5, \n",
    "          '501-1000': 6, \n",
    "          '1000 이상': 7}\n",
    "\n",
    "with open('train_job/job_companies.csv', 'r') as f:\n",
    "    csv_reader = csv.reader(f)\n",
    "    \n",
    "    for i, line in enumerate(csv_reader):\n",
    "        \n",
    "        if i == 0:\n",
    "            pass\n",
    "#             print(line)\n",
    "        else:\n",
    "            company_set.add(line[0])\n",
    "            jobs_set.add(line[1])\n",
    "            company_size_set.add(line[2])\n",
    "            job_id_to_com_size_dict[line[1]] = scales[line[2]]\n",
    "\n",
    "# 4. User skills\n",
    "            \n",
    "user_dict = dict()\n",
    "\n",
    "with open('train_job/user_tags.csv', 'r') as f:\n",
    "    csv_reader = csv.reader(f)\n",
    "    \n",
    "    for i, line in enumerate(csv_reader):\n",
    "        \n",
    "        if i != 0:\n",
    "    \n",
    "            try:\n",
    "                user_dict[line[0]].append(line[1])\n",
    "            except KeyError:\n",
    "                user_dict[line[0]] = [line[1]]\n",
    "\n",
    "# 5. Job required skills\n",
    "                \n",
    "tag_dictionary = dict()\n",
    "tag_idx_to_tag_list = list()\n",
    "\n",
    "with open('train_job/tags.csv', 'r') as f:\n",
    "    csv_reader = csv.reader(f)\n",
    "    \n",
    "    for i, line in enumerate(csv_reader):\n",
    "        \n",
    "        if i != 0:\n",
    "            tag_dictionary[line[0]] = i - 1\n",
    "            tag_idx_to_tag_list.append(line)\n",
    "            assert len(tag_idx_to_tag_list) == i\n",
    "    \n",
    "def tagID2Vector(tag_list):\n",
    "    vector = np.zeros(len(tag_dictionary))\n",
    "    \n",
    "    for tag in tag_list:\n",
    "        vector[tag_dictionary[tag]] = 1\n",
    "    \n",
    "    return vector\n",
    "\n",
    "def jobID2Vector(job_id):\n",
    "    vector = np.zeros(len(tag_dictionary))\n",
    "    for tag in job_dict[job_id]:\n",
    "        vector[tag_dictionary[tag]] = 1\n",
    "    assert np.sum(vector) == len(job_dict[job_id]), f'{np.sum(vector)} != {len(job_dict[job_id])}'\n",
    "    return vector\n",
    "\n",
    "def jobID2CompanyScale(job_id):\n",
    "    vector = np.zeros(len(tag_dictionary))\n",
    "    for tag in job_dict[job_id]:\n",
    "        vector[tag_dictionary[tag]] = 1\n",
    "    assert np.sum(vector) == len(job_dict[job_id]), f'{np.sum(vector)} != {len(job_dict[job_id])}'\n",
    "    return vector"
   ]
  },
  {
   "cell_type": "code",
   "execution_count": 7,
   "metadata": {
    "scrolled": false
   },
   "outputs": [],
   "source": [
    "for job in job_dict:\n",
    "    assert len(job_dict[job]) == len(set(job_dict[job]))"
   ]
  },
  {
   "cell_type": "code",
   "execution_count": 8,
   "metadata": {},
   "outputs": [],
   "source": [
    "def collate_function(data_input):\n",
    "\n",
    "    global user_dict\n",
    "    \n",
    "    person_id_list = list()\n",
    "    job_id_list = list()\n",
    "    answer = list()\n",
    "\n",
    "    for data in data_input:\n",
    "        person_id_list.append(data[0])\n",
    "        job_id_list.append(data[1])\n",
    "        answer.append(data[2])\n",
    "    \n",
    "    person_tensor = list()\n",
    "    for person_id in person_id_list:\n",
    "        user_skill_set = set(user_dict[person_id])\n",
    "        vector = tagID2Vector(user_skill_set)\n",
    "        person_tensor.append(vector)\n",
    "    person_tensor = torch.tensor(person_tensor)\n",
    "        \n",
    "    job_tensor = list()\n",
    "    for job_id in job_id_list:\n",
    "        vector = jobID2Vector(job_id)\n",
    "        job_tensor.append(vector)\n",
    "    job_tensor = torch.tensor(job_tensor)\n",
    "        \n",
    "    answer_tensor = torch.tensor(answer)\n",
    "      \n",
    "    com_size_tensor = list()\n",
    "    for job_id in job_id_list:\n",
    "        com_size_tensor.append(job_id_to_com_size_dict[job_id])\n",
    "    com_size_tensor = torch.unsqueeze(torch.tensor(com_size_tensor), 1) / 7\n",
    "    \n",
    "        \n",
    "    return person_tensor, job_tensor, answer_tensor, com_size_tensor"
   ]
  },
  {
   "cell_type": "code",
   "execution_count": 9,
   "metadata": {},
   "outputs": [],
   "source": [
    "dataloader = DataLoader(dataset_train, \n",
    "                        batch_size=12, \n",
    "                        shuffle=True, \n",
    "                        num_workers=4, \n",
    "                        collate_fn=collate_function)"
   ]
  },
  {
   "cell_type": "code",
   "execution_count": 27,
   "metadata": {},
   "outputs": [],
   "source": [
    "class NetZero(nn.Module):\n",
    "    def __init__(self):\n",
    "        super(NetZero, self).__init__()\n",
    "\n",
    "    def forward(self, tensor, c_tensor=None):\n",
    "        \n",
    "        tensor = torch.zeros(tensor.shape[0], 2)\n",
    "\n",
    "        tensor[:, 0] = 1\n",
    "        \n",
    "        return tensor\n",
    "\n",
    "class NetOne(nn.Module):\n",
    "    def __init__(self):\n",
    "        super(NetOne, self).__init__()\n",
    "\n",
    "    def forward(self, tensor, c_tensor=None):\n",
    "        \n",
    "        tensor = torch.zeros(tensor.shape[0], 2)\n",
    "\n",
    "        tensor[:, 1] = 1\n",
    "        \n",
    "        return tensor\n"
   ]
  },
  {
   "cell_type": "code",
   "execution_count": 28,
   "metadata": {},
   "outputs": [],
   "source": [
    "def accuracy(pred, label):\n",
    "    \n",
    "    assert len(pred) == len(label)\n",
    "    \n",
    "#     pred_label = np.floor(pred + 0.5)\n",
    "    \n",
    "    acc = 0\n",
    "    \n",
    "#     print(pred, label)\n",
    "    \n",
    "#     for i in range(len(pred)):\n",
    "#         if pred_label[i] == label[i]:\n",
    "#             acc += 1\n",
    "\n",
    "#     return acc / len(pred_label)\n",
    "\n",
    "    label_pred = [np.argmax(elem) for elem in pred]\n",
    "    \n",
    "    for i in range(len(pred)):\n",
    "        if label_pred[i] == label[i]:\n",
    "            acc += 1\n",
    "            \n",
    "    return acc / len(label_pred)"
   ]
  },
  {
   "cell_type": "code",
   "execution_count": 29,
   "metadata": {
    "scrolled": false
   },
   "outputs": [
    {
     "data": {
      "application/vnd.jupyter.widget-view+json": {
       "model_id": "a691e4e0c7f74c7c95a2d586fc892dfe",
       "version_major": 2,
       "version_minor": 0
      },
      "text/plain": [
       "HBox(children=(IntProgress(value=1, bar_style='info', max=1), HTML(value='')))"
      ]
     },
     "metadata": {},
     "output_type": "display_data"
    },
    {
     "name": "stderr",
     "output_type": "stream",
     "text": [
      "/home/joowhan/anaconda3/envs/DeepDarkEnv/lib/python3.7/site-packages/ipykernel_launcher.py:33: UserWarning: To copy construct from a tensor, it is recommended to use sourceTensor.clone().detach() or sourceTensor.clone().detach().requires_grad_(True), rather than torch.tensor(sourceTensor).\n",
      "/home/joowhan/anaconda3/envs/DeepDarkEnv/lib/python3.7/site-packages/ipykernel_launcher.py:34: UserWarning: To copy construct from a tensor, it is recommended to use sourceTensor.clone().detach() or sourceTensor.clone().detach().requires_grad_(True), rather than torch.tensor(sourceTensor).\n",
      "/home/joowhan/anaconda3/envs/DeepDarkEnv/lib/python3.7/site-packages/ipykernel_launcher.py:35: UserWarning: To copy construct from a tensor, it is recommended to use sourceTensor.clone().detach() or sourceTensor.clone().detach().requires_grad_(True), rather than torch.tensor(sourceTensor).\n",
      "/home/joowhan/anaconda3/envs/DeepDarkEnv/lib/python3.7/site-packages/ipykernel_launcher.py:36: UserWarning: To copy construct from a tensor, it is recommended to use sourceTensor.clone().detach() or sourceTensor.clone().detach().requires_grad_(True), rather than torch.tensor(sourceTensor).\n"
     ]
    },
    {
     "name": "stdout",
     "output_type": "stream",
     "text": [
      "\n"
     ]
    },
    {
     "data": {
      "image/png": "[encoded data removed]",
      "text/plain": [
       "<Figure size 432x288 with 1 Axes>"
      ]
     },
     "metadata": {
      "needs_background": "light"
     },
     "output_type": "display_data"
    },
    {
     "data": {
      "image/png": "[encoded data removed]",
      "text/plain": [
       "<Figure size 432x288 with 1 Axes>"
      ]
     },
     "metadata": {
      "needs_background": "light"
     },
     "output_type": "display_data"
    },
    {
     "name": "stdout",
     "output_type": "stream",
     "text": [
      "Acc. 0.8572607260726072\n",
      "Loss 0.45600084658011353\n"
     ]
    }
   ],
   "source": [
    "# 모델 초기화\n",
    "model = NetZero().to(device)\n",
    "\n",
    "# 옵티마이저 초기화\n",
    "# optimizer = optim.SGD(model.parameters(), lr=0.001, momentum=0.9)\n",
    "# optimizer = optim.SGD(model.parameters(), lr=0.01, momentum=0.9)\n",
    "\n",
    "# weights = [1.0, 6.0]\n",
    "# weights = [1.0, 24.0]\n",
    "weights = [1.0, 1.0]\n",
    "# weights = [1.0, 12.0]\n",
    "\n",
    "class_weights = torch.FloatTensor(weights).cuda()\n",
    "criterion = nn.CrossEntropyLoss(weight=class_weights)\n",
    "\n",
    "# criterion = nn.CrossEntropyLoss()\n",
    "\n",
    "loss_history = list()\n",
    "acc_history = list()\n",
    "\n",
    "running_loss = list()\n",
    "running_acc = list()\n",
    "\n",
    "for j in range(1):\n",
    "\n",
    "    for i, (p_tensor, j_tensor, a_tensor, c_tensor) in tqdm(enumerate(dataloader)):\n",
    "\n",
    "    #     print(i)\n",
    "    #     print(p_tensor.shape)\n",
    "    #     print(j_tensor.shape)\n",
    "    #     print(a_tensor.shape)\n",
    "\n",
    "        p_tensor = torch.tensor(p_tensor, dtype=torch.float32)\n",
    "        j_tensor = torch.tensor(j_tensor, dtype=torch.float32)\n",
    "        c_tensor = torch.tensor(c_tensor, dtype=torch.float32)\n",
    "        a_tensor = torch.tensor(a_tensor, dtype=torch.int64)\n",
    "\n",
    "        s_tensor = torch.clamp(j_tensor - p_tensor, 0, 1)\n",
    "\n",
    "        input_tensor = torch.cat((p_tensor, j_tensor, s_tensor), 1)\n",
    "\n",
    "        model.zero_grad()\n",
    "\n",
    "        pred_tensor = model(input_tensor.to(device), c_tensor.to(device))\n",
    "\n",
    "    #     pred_tensor = torch.tensor(pred_tensor, dtype=torch.float64)\n",
    "\n",
    "    #     print(pred_tensor.dtype)\n",
    "    #     print(a_tensor.dtype)\n",
    "\n",
    "        loss = criterion(pred_tensor.to(device), a_tensor.to(device))\n",
    "#         loss.backward()\n",
    "#         optimizer.step()\n",
    "\n",
    "        running_loss.append(loss.item())\n",
    "        running_acc.append(accuracy(pred_tensor.cpu().detach().numpy(), \n",
    "                           a_tensor.cpu().detach().numpy()))\n",
    "        \n",
    "        if len(running_loss) > 100:\n",
    "            loss_history.append(np.mean(running_loss))\n",
    "            acc_history.append(np.mean(running_acc))\n",
    "            running_loss = list()\n",
    "            running_acc = list()\n",
    "    \n",
    "    plt.figure()\n",
    "    plt.plot(loss_history)\n",
    "    plt.plot(acc_history)\n",
    "    plt.plot([0.8571] * len(acc_history))\n",
    "    plt.plot([0.1428] * len(acc_history))\n",
    "    plt.ylim([0, 1])\n",
    "    plt.show()\n",
    "    \n",
    "    plt.figure()\n",
    "    plt.plot(loss_history)\n",
    "    plt.plot(acc_history)\n",
    "    plt.ylim([0, 1])\n",
    "    plt.show()\n",
    "    \n",
    "    print(f'Acc. {np.mean(acc_history[-5:])}')\n",
    "    print(f'Loss {np.mean(loss_history[-5:])}')"
   ]
  },
  {
   "cell_type": "code",
   "execution_count": 31,
   "metadata": {},
   "outputs": [
    {
     "data": {
      "application/vnd.jupyter.widget-view+json": {
       "model_id": "48243bc5f0ea471aaaa37af4a958ca0d",
       "version_major": 2,
       "version_minor": 0
      },
      "text/plain": [
       "HBox(children=(IntProgress(value=1, bar_style='info', max=1), HTML(value='')))"
      ]
     },
     "metadata": {},
     "output_type": "display_data"
    },
    {
     "name": "stderr",
     "output_type": "stream",
     "text": [
      "/home/joowhan/anaconda3/envs/DeepDarkEnv/lib/python3.7/site-packages/ipykernel_launcher.py:32: UserWarning: To copy construct from a tensor, it is recommended to use sourceTensor.clone().detach() or sourceTensor.clone().detach().requires_grad_(True), rather than torch.tensor(sourceTensor).\n",
      "/home/joowhan/anaconda3/envs/DeepDarkEnv/lib/python3.7/site-packages/ipykernel_launcher.py:33: UserWarning: To copy construct from a tensor, it is recommended to use sourceTensor.clone().detach() or sourceTensor.clone().detach().requires_grad_(True), rather than torch.tensor(sourceTensor).\n",
      "/home/joowhan/anaconda3/envs/DeepDarkEnv/lib/python3.7/site-packages/ipykernel_launcher.py:34: UserWarning: To copy construct from a tensor, it is recommended to use sourceTensor.clone().detach() or sourceTensor.clone().detach().requires_grad_(True), rather than torch.tensor(sourceTensor).\n",
      "/home/joowhan/anaconda3/envs/DeepDarkEnv/lib/python3.7/site-packages/ipykernel_launcher.py:35: UserWarning: To copy construct from a tensor, it is recommended to use sourceTensor.clone().detach() or sourceTensor.clone().detach().requires_grad_(True), rather than torch.tensor(sourceTensor).\n"
     ]
    },
    {
     "name": "stdout",
     "output_type": "stream",
     "text": [
      "\n"
     ]
    },
    {
     "data": {
      "image/png": "[encoded data removed]",
      "text/plain": [
       "<Figure size 432x288 with 1 Axes>"
      ]
     },
     "metadata": {
      "needs_background": "light"
     },
     "output_type": "display_data"
    },
    {
     "data": {
      "image/png": "[encoded data removed]",
      "text/plain": [
       "<Figure size 432x288 with 1 Axes>"
      ]
     },
     "metadata": {
      "needs_background": "light"
     },
     "output_type": "display_data"
    },
    {
     "data": {
      "image/png": "[encoded data removed]",
      "text/plain": [
       "<Figure size 432x288 with 1 Axes>"
      ]
     },
     "metadata": {
      "needs_background": "light"
     },
     "output_type": "display_data"
    },
    {
     "name": "stdout",
     "output_type": "stream",
     "text": [
      "Acc. 0.13696369636963696\n",
      "Loss 1.1762980417449875\n"
     ]
    }
   ],
   "source": [
    "# 모델 초기화\n",
    "model = NetOne().to(device)\n",
    "\n",
    "# 옵티마이저 초기화\n",
    "# optimizer = optim.SGD(model.parameters(), lr=0.001, momentum=0.9)\n",
    "# optimizer = optim.SGD(model.parameters(), lr=0.01, momentum=0.9)\n",
    "\n",
    "# weights = [1.0, 6.0]\n",
    "weights = [1.0, 1.0]\n",
    "# weights = [1.0, 12.0]\n",
    "\n",
    "class_weights = torch.FloatTensor(weights).cuda()\n",
    "criterion = nn.CrossEntropyLoss(weight=class_weights)\n",
    "\n",
    "# criterion = nn.CrossEntropyLoss()\n",
    "\n",
    "loss_history = list()\n",
    "acc_history = list()\n",
    "\n",
    "running_loss = list()\n",
    "running_acc = list()\n",
    "\n",
    "for j in range(1):\n",
    "\n",
    "    for i, (p_tensor, j_tensor, a_tensor, c_tensor) in tqdm(enumerate(dataloader)):\n",
    "\n",
    "    #     print(i)\n",
    "    #     print(p_tensor.shape)\n",
    "    #     print(j_tensor.shape)\n",
    "    #     print(a_tensor.shape)\n",
    "\n",
    "        p_tensor = torch.tensor(p_tensor, dtype=torch.float32)\n",
    "        j_tensor = torch.tensor(j_tensor, dtype=torch.float32)\n",
    "        c_tensor = torch.tensor(c_tensor, dtype=torch.float32)\n",
    "        a_tensor = torch.tensor(a_tensor, dtype=torch.int64)\n",
    "\n",
    "        s_tensor = torch.clamp(j_tensor - p_tensor, 0, 1)\n",
    "\n",
    "        input_tensor = torch.cat((p_tensor, j_tensor, s_tensor), 1)\n",
    "\n",
    "        model.zero_grad()\n",
    "\n",
    "        pred_tensor = model(input_tensor.to(device), c_tensor.to(device))\n",
    "\n",
    "    #     pred_tensor = torch.tensor(pred_tensor, dtype=torch.float64)\n",
    "\n",
    "    #     print(pred_tensor.dtype)\n",
    "    #     print(a_tensor.dtype)\n",
    "\n",
    "        loss = criterion(pred_tensor.to(device), a_tensor.to(device))\n",
    "#         loss.backward()\n",
    "#         optimizer.step()\n",
    "\n",
    "        running_loss.append(loss.item())\n",
    "        running_acc.append(accuracy(pred_tensor.cpu().detach().numpy(), \n",
    "                           a_tensor.cpu().detach().numpy()))\n",
    "        \n",
    "        if len(running_loss) > 100:\n",
    "            loss_history.append(np.mean(running_loss))\n",
    "            acc_history.append(np.mean(running_acc))\n",
    "            running_loss = list()\n",
    "            running_acc = list()\n",
    "    \n",
    "    plt.figure()\n",
    "    plt.plot(loss_history)\n",
    "    plt.plot(acc_history)\n",
    "    plt.plot([0.8571] * len(acc_history))\n",
    "    plt.plot([0.1428] * len(acc_history))\n",
    "    plt.ylim([0, 1])\n",
    "    plt.show()\n",
    "    \n",
    "    plt.figure()\n",
    "    plt.plot(loss_history)\n",
    "    plt.plot(acc_history)\n",
    "    plt.ylim([0, 1])\n",
    "    plt.show()\n",
    "    \n",
    "    plt.figure()\n",
    "    plt.plot(loss_history)\n",
    "    plt.ylim([0, 1])\n",
    "    plt.show()\n",
    "    \n",
    "    print(f'Acc. {np.mean(acc_history[-5:])}')\n",
    "    print(f'Loss {np.mean(loss_history[-5:])}')"
   ]
  },
  {
   "cell_type": "code",
   "execution_count": null,
   "metadata": {},
   "outputs": [],
   "source": []
  }
 ],
 "metadata": {
  "kernelspec": {
   "display_name": "Python 3",
   "language": "python",
   "name": "python3"
  },
  "language_info": {
   "codemirror_mode": {
    "name": "ipython",
    "version": 3
   },
   "file_extension": ".py",
   "mimetype": "text/x-python",
   "name": "python",
   "nbconvert_exporter": "python",
   "pygments_lexer": "ipython3",
   "version": "3.7.5"
  }
 },
 "nbformat": 4,
 "nbformat_minor": 2
}
