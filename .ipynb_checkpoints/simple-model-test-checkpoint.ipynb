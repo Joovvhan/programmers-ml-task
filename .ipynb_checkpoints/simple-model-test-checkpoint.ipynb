{
 "cells": [
  {
   "cell_type": "code",
   "execution_count": 1,
   "metadata": {},
   "outputs": [],
   "source": [
    "import matplotlib.pyplot as plt\n",
    "import csv\n",
    "import numpy as np\n",
    "import torch\n",
    "from torch import nn, optim"
   ]
  },
  {
   "cell_type": "code",
   "execution_count": 2,
   "metadata": {},
   "outputs": [],
   "source": [
    "from tqdm.notebook import tqdm"
   ]
  },
  {
   "cell_type": "code",
   "execution_count": 3,
   "metadata": {},
   "outputs": [],
   "source": [
    "import torch.nn.functional as F"
   ]
  },
  {
   "cell_type": "code",
   "execution_count": 4,
   "metadata": {},
   "outputs": [],
   "source": [
    "from torch.utils.data import Dataset, DataLoader"
   ]
  },
  {
   "cell_type": "code",
   "execution_count": 5,
   "metadata": {},
   "outputs": [],
   "source": [
    "dataset_train = list()\n",
    "\n",
    "\n",
    "# 1. Train Data Pairs\n",
    "with open('train_job/train.csv', 'r') as f:\n",
    "    csv_reader = csv.reader(f)\n",
    "    \n",
    "    for i, line in enumerate(csv_reader):\n",
    "\n",
    "        if i == 0:\n",
    "            pass\n",
    "        else:\n",
    "            dataset_train.append([line[0], line[1], int(line[2])])\n",
    "\n",
    "# 2. Job id to number/ Job tags\n",
    "\n",
    "job_dict = dict()\n",
    "\n",
    "with open('train_job/job_tags.csv', 'r') as f:\n",
    "    csv_reader = csv.reader(f)\n",
    "    \n",
    "    for i, line in enumerate(csv_reader):\n",
    "        \n",
    "        if i == 0:\n",
    "            pass\n",
    "        else:\n",
    "            try:\n",
    "                job_dict[line[0]].append(line[1])\n",
    "            except KeyError:\n",
    "                job_dict[line[0]] = [line[1]]\n",
    "                \n",
    "# 3. Job id to company code and size. Not using right now\n",
    "                \n",
    "company_set = set()\n",
    "jobs_set = set()\n",
    "company_size_set = set()\n",
    "\n",
    "with open('train_job/job_companies.csv', 'r') as f:\n",
    "    csv_reader = csv.reader(f)\n",
    "    \n",
    "    for i, line in enumerate(csv_reader):\n",
    "        \n",
    "        if i == 0:\n",
    "            pass\n",
    "#             print(line)\n",
    "        else:\n",
    "            company_set.add(line[0])\n",
    "            jobs_set.add(line[1])\n",
    "            company_size_set.add(line[2])\n",
    "\n",
    "# 4. User skills\n",
    "            \n",
    "user_dict = dict()\n",
    "\n",
    "with open('train_job/user_tags.csv', 'r') as f:\n",
    "    csv_reader = csv.reader(f)\n",
    "    \n",
    "    for i, line in enumerate(csv_reader):\n",
    "        \n",
    "        if i != 0:\n",
    "    \n",
    "            try:\n",
    "                user_dict[line[0]].append(line[1])\n",
    "            except KeyError:\n",
    "                user_dict[line[0]] = [line[1]]\n",
    "\n",
    "# 5. Job required skills\n",
    "                \n",
    "tag_dictionary = dict()\n",
    "tag_idx_to_tag_list = list()\n",
    "\n",
    "with open('train_job/tags.csv', 'r') as f:\n",
    "    csv_reader = csv.reader(f)\n",
    "    \n",
    "    for i, line in enumerate(csv_reader):\n",
    "        \n",
    "        if i != 0:\n",
    "            tag_dictionary[line[0]] = i - 1\n",
    "            tag_idx_to_tag_list.append(line)\n",
    "            assert len(tag_idx_to_tag_list) == i\n",
    "    \n",
    "def tagID2Vector(tag_list):\n",
    "    vector = np.zeros(len(tag_dictionary))\n",
    "    \n",
    "    for tag in tag_list:\n",
    "        vector[tag_dictionary[tag]] = 1\n",
    "    \n",
    "    return vector\n",
    "\n",
    "def jobID2Vector(job_id):\n",
    "    vector = np.zeros(len(tag_dictionary))\n",
    "    for tag in job_dict[job_id]:\n",
    "        vector[tag_dictionary[tag]] = 1\n",
    "    assert np.sum(vector) == len(job_dict[job_id]), f'{np.sum(vector)} != {len(job_dict[job_id])}'\n",
    "    return vector"
   ]
  },
  {
   "cell_type": "code",
   "execution_count": 6,
   "metadata": {
    "scrolled": false
   },
   "outputs": [],
   "source": [
    "for job in job_dict:\n",
    "    assert len(job_dict[job]) == len(set(job_dict[job]))"
   ]
  },
  {
   "cell_type": "code",
   "execution_count": 7,
   "metadata": {},
   "outputs": [],
   "source": [
    "def collate_function(data_input):\n",
    "\n",
    "    global user_dict\n",
    "    \n",
    "    person_id_list = list()\n",
    "    job_id_list = list()\n",
    "    answer = list()\n",
    "\n",
    "    for data in data_input:\n",
    "        person_id_list.append(data[0])\n",
    "        job_id_list.append(data[1])\n",
    "        answer.append(data[2])\n",
    "    \n",
    "    person_tensor = list()\n",
    "    for person_id in person_id_list:\n",
    "        user_skill_set = set(user_dict[person_id])\n",
    "        vector = tagID2Vector(user_skill_set)\n",
    "        person_tensor.append(vector)\n",
    "        \n",
    "    job_tensor = list()\n",
    "    for job_id in job_id_list:\n",
    "        vector = jobID2Vector(job_id)\n",
    "        job_tensor.append(vector)\n",
    "        \n",
    "    answer_tensor = torch.tensor(answer)\n",
    "        \n",
    "    return torch.tensor(person_tensor), torch.tensor(job_tensor), answer_tensor"
   ]
  },
  {
   "cell_type": "code",
   "execution_count": 8,
   "metadata": {},
   "outputs": [],
   "source": [
    "dataloader = DataLoader(dataset_train, \n",
    "                        batch_size=4, \n",
    "                        shuffle=True, \n",
    "                        num_workers=4, \n",
    "                        collate_fn=collate_function)"
   ]
  },
  {
   "cell_type": "code",
   "execution_count": 9,
   "metadata": {},
   "outputs": [],
   "source": [
    "class Net(nn.Module):\n",
    "    def __init__(self):\n",
    "        super(Net, self).__init__()\n",
    "        self.layers = nn.ModuleList([nn.Linear(887 * 3, 2 ** 11), \n",
    "                                     nn.Linear(2 ** 11, 2 ** 11), \n",
    "                                     nn.Linear(2 ** 11, 2 ** 11), \n",
    "                                     nn.Linear(2 ** 11, 2 ** 11), \n",
    "                                     nn.Linear(2 ** 11, 2 ** 10), \n",
    "                                     nn.Linear(2 ** 10, 2 ** 9),\n",
    "                                     nn.Linear(2 ** 9, 2 ** 8),\n",
    "                                     nn.Linear(2 ** 8, 2 ** 7),\n",
    "                                     nn.Linear(2 ** 7, 2 ** 6),\n",
    "                                     nn.Linear(2 ** 6, 2 ** 5),\n",
    "                                     nn.Linear(2 ** 5, 2 ** 4),\n",
    "                                     nn.Linear(2 ** 4, 2 ** 3),\n",
    "                                     nn.Linear(2 ** 3, 2 ** 2),\n",
    "                                     nn.Linear(2 ** 2, 2 ** 1),\n",
    "                                    ])\n",
    "\n",
    "    def forward(self, tensor):\n",
    "        \n",
    "        for layer in self.layers:\n",
    "#             tensor = F.relu(layer(tensor))\n",
    "            tensor = layer(tensor)\n",
    "        \n",
    "        tensor = F.sigmoid(tensor)\n",
    "        \n",
    "        return tensor\n"
   ]
  },
  {
   "cell_type": "code",
   "execution_count": 10,
   "metadata": {},
   "outputs": [],
   "source": [
    "list_t = [[0.1, 0.5],\n",
    "         [0.2, 0.5],\n",
    "         [0.5, 0.5],\n",
    "         [0.5, 0.5]]"
   ]
  },
  {
   "cell_type": "code",
   "execution_count": 11,
   "metadata": {},
   "outputs": [],
   "source": [
    "def accuracy(pred, label):\n",
    "    \n",
    "    assert len(pred) == len(label)\n",
    "    \n",
    "#     pred_label = np.floor(pred + 0.5)\n",
    "    \n",
    "    acc = 0\n",
    "    \n",
    "#     print(pred, label)\n",
    "    \n",
    "#     for i in range(len(pred)):\n",
    "#         if pred_label[i] == label[i]:\n",
    "#             acc += 1\n",
    "\n",
    "#     return acc / len(pred_label)\n",
    "\n",
    "    label_pred = [np.argmax(elem) for elem in pred]\n",
    "    \n",
    "    for i in range(len(pred)):\n",
    "        if label_pred[i] == label[i]:\n",
    "            acc += 1\n",
    "            \n",
    "    return acc / len(label_pred)"
   ]
  },
  {
   "cell_type": "code",
   "execution_count": null,
   "metadata": {
    "scrolled": false
   },
   "outputs": [
    {
     "data": {
      "application/vnd.jupyter.widget-view+json": {
       "model_id": "41d8288a7f694d928bb8f47a753c0f4f",
       "version_major": 2,
       "version_minor": 0
      },
      "text/plain": [
       "HBox(children=(IntProgress(value=1, bar_style='info', max=1), HTML(value='')))"
      ]
     },
     "metadata": {},
     "output_type": "display_data"
    },
    {
     "name": "stderr",
     "output_type": "stream",
     "text": [
      "/Users/joowhan/opt/anaconda3/envs/py3_env/lib/python3.7/site-packages/ipykernel_launcher.py:24: UserWarning: To copy construct from a tensor, it is recommended to use sourceTensor.clone().detach() or sourceTensor.clone().detach().requires_grad_(True), rather than torch.tensor(sourceTensor).\n",
      "/Users/joowhan/opt/anaconda3/envs/py3_env/lib/python3.7/site-packages/ipykernel_launcher.py:25: UserWarning: To copy construct from a tensor, it is recommended to use sourceTensor.clone().detach() or sourceTensor.clone().detach().requires_grad_(True), rather than torch.tensor(sourceTensor).\n",
      "/Users/joowhan/opt/anaconda3/envs/py3_env/lib/python3.7/site-packages/ipykernel_launcher.py:26: UserWarning: To copy construct from a tensor, it is recommended to use sourceTensor.clone().detach() or sourceTensor.clone().detach().requires_grad_(True), rather than torch.tensor(sourceTensor).\n",
      "/Users/joowhan/opt/anaconda3/envs/py3_env/lib/python3.7/site-packages/torch/nn/functional.py:1351: UserWarning: nn.functional.sigmoid is deprecated. Use torch.sigmoid instead.\n",
      "  warnings.warn(\"nn.functional.sigmoid is deprecated. Use torch.sigmoid instead.\")\n"
     ]
    }
   ],
   "source": [
    "\n",
    "\n",
    "# 모델 초기화\n",
    "model = Net()\n",
    "\n",
    "# 옵티마이저 초기화\n",
    "optimizer = optim.SGD(model.parameters(), lr=0.001, momentum=0.9)\n",
    "\n",
    "criterion = nn.CrossEntropyLoss()\n",
    "\n",
    "loss_history = list()\n",
    "acc_history = list()\n",
    "\n",
    "running_loss = list()\n",
    "running_acc = list()\n",
    "\n",
    "for i in range(60):\n",
    "\n",
    "    for i, (p_tensor, j_tensor, a_tensor) in tqdm(enumerate(dataloader)):\n",
    "\n",
    "    #     print(i)\n",
    "    #     print(p_tensor.shape)\n",
    "    #     print(j_tensor.shape)\n",
    "    #     print(a_tensor.shape)\n",
    "\n",
    "        p_tensor = torch.tensor(p_tensor, dtype=torch.float32)\n",
    "        j_tensor = torch.tensor(j_tensor, dtype=torch.float32)\n",
    "        a_tensor = torch.tensor(a_tensor, dtype=torch.int64)\n",
    "\n",
    "        s_tensor = torch.clamp(j_tensor - p_tensor, 0, 1)\n",
    "\n",
    "        input_tensor = torch.cat((p_tensor, j_tensor, s_tensor), 1)\n",
    "\n",
    "        model.zero_grad()\n",
    "\n",
    "        pred_tensor = model(input_tensor)\n",
    "\n",
    "    #     pred_tensor = torch.tensor(pred_tensor, dtype=torch.float64)\n",
    "\n",
    "    #     print(pred_tensor.dtype)\n",
    "    #     print(a_tensor.dtype)\n",
    "\n",
    "        loss = criterion(pred_tensor, a_tensor)\n",
    "        loss.backward()\n",
    "        optimizer.step()\n",
    "\n",
    "        running_loss.append(loss.item())\n",
    "        running_acc.append(accuracy(pred_tensor.detach().numpy(), \n",
    "                           a_tensor.detach().numpy()))\n",
    "        \n",
    "        if len(running_loss) > 10:\n",
    "            loss_history.append(np.mean(running_loss))\n",
    "            acc_history.append(np.mean(running_acc))\n",
    "            running_loss = list()\n",
    "            running_acc = list()\n",
    "    \n",
    "    plt.figure()\n",
    "    plt.plot(loss_history)\n",
    "    plt.plot(acc_history)\n",
    "    plt.ylim([0, 1])\n",
    "    plt.show()"
   ]
  },
  {
   "cell_type": "code",
   "execution_count": null,
   "metadata": {},
   "outputs": [],
   "source": [
    "plt.plot(running_loss)"
   ]
  },
  {
   "cell_type": "code",
   "execution_count": null,
   "metadata": {},
   "outputs": [],
   "source": [
    "user_vector_dict = dict()\n",
    "job_vector_dict = dict()\n",
    "\n",
    "for user in user_dict:\n",
    "#     print(user)\n",
    "    user_skill_set = set(user_dict[user])\n",
    "    vector = tagID2Vector(user_skill_set)\n",
    "    assert len(user_skill_set) == np.sum(vector), ''\n",
    "    \n",
    "for job in job_dict:\n",
    "    vector = jobID2Vector(job)\n",
    "#     print(vector)\n",
    "#     break\n"
   ]
  },
  {
   "cell_type": "code",
   "execution_count": null,
   "metadata": {},
   "outputs": [],
   "source": []
  }
 ],
 "metadata": {
  "kernelspec": {
   "display_name": "Python 3",
   "language": "python",
   "name": "python3"
  },
  "language_info": {
   "codemirror_mode": {
    "name": "ipython",
    "version": 3
   },
   "file_extension": ".py",
   "mimetype": "text/x-python",
   "name": "python",
   "nbconvert_exporter": "python",
   "pygments_lexer": "ipython3",
   "version": "3.7.5"
  }
 },
 "nbformat": 4,
 "nbformat_minor": 2
}
