{
 "cells": [
  {
   "cell_type": "code",
   "execution_count": 1,
   "metadata": {},
   "outputs": [],
   "source": [
    "import matplotlib.pyplot as plt\n",
    "import csv\n",
    "import numpy as np"
   ]
  },
  {
   "cell_type": "code",
   "execution_count": 2,
   "metadata": {},
   "outputs": [
    {
     "name": "stdout",
     "output_type": "stream",
     "text": [
      "6000\n"
     ]
    },
    {
     "data": {
      "image/png": "[encoded data removed]",
      "text/plain": [
       "<Figure size 432x288 with 1 Axes>"
      ]
     },
     "metadata": {
      "needs_background": "light"
     },
     "output_type": "display_data"
    }
   ],
   "source": [
    "dataset_train = list()\n",
    "\n",
    "labels = list()\n",
    "\n",
    "with open('train_job/train.csv', 'r') as f:\n",
    "    csv_reader = csv.reader(f)\n",
    "    \n",
    "    for i, line in enumerate(csv_reader):\n",
    "\n",
    "        if i == 0:\n",
    "            pass\n",
    "        else:\n",
    "            dataset_train.append(line)\n",
    "            labels.append(int(line[2]))\n",
    "#             if i >= 5:\n",
    "#                 pass\n",
    "#             else:\n",
    "#                 print(line)\n",
    "    \n",
    "    print(i)\n",
    "\n",
    "dataset_train[:10]\n",
    "\n",
    "plt.figure()\n",
    "plt.plot(sorted(labels))\n",
    "plt.show()\n",
    "\n"
   ]
  },
  {
   "cell_type": "code",
   "execution_count": null,
   "metadata": {},
   "outputs": [],
   "source": []
  },
  {
   "cell_type": "code",
   "execution_count": 14,
   "metadata": {},
   "outputs": [
    {
     "name": "stdout",
     "output_type": "stream",
     "text": [
      "85.71666666666667\n",
      "14.283333333333333\n",
      "0.8571666666666666\n",
      "0.14283333333333334\n"
     ]
    }
   ],
   "source": [
    "print(labels.count(0) / len(labels) * 100)\n",
    "\n",
    "print(labels.count(1) / len(labels) * 100)\n",
    "\n",
    "print(labels.count(0) / len(labels))\n",
    "\n",
    "print(labels.count(1) / len(labels))\n"
   ]
  },
  {
   "cell_type": "code",
   "execution_count": 3,
   "metadata": {},
   "outputs": [
    {
     "name": "stdout",
     "output_type": "stream",
     "text": [
      "['320722549d1751cf3f247855f937b982', 'd38901788c533e8286cb6400b40b386d']\n",
      "['e744f91c29ec99f0e662c9177946c627', '3948ead63a9f2944218de038d8934305']\n",
      "['e744f91c29ec99f0e662c9177946c627', '0e095e054ee94774d6a496099eb1cf6a']\n",
      "['e820a45f1dfc7b95282d10b6087e11c0', '7d771e0e8f3633ab54856925ecdefc5d']\n",
      "['e820a45f1dfc7b95282d10b6087e11c0', '6c8dba7d0df1c4a79dd07646be9a26c8']\n",
      "len of train job flie: 3477\n",
      "len of train jobs: 733\n"
     ]
    },
    {
     "data": {
      "image/png": "[encoded data removed]",
      "text/plain": [
       "<Figure size 432x288 with 1 Axes>"
      ]
     },
     "metadata": {
      "needs_background": "light"
     },
     "output_type": "display_data"
    }
   ],
   "source": [
    "job_dict = dict()\n",
    "\n",
    "with open('train_job/job_tags.csv', 'r') as f:\n",
    "    csv_reader = csv.reader(f)\n",
    "    \n",
    "    for i, line in enumerate(csv_reader):\n",
    "        \n",
    "        if i == 0:\n",
    "            pass\n",
    "        else:\n",
    "            try:\n",
    "                job_dict[line[0]].append(line[1])\n",
    "            except KeyError:\n",
    "                job_dict[line[0]] = [line[1]]\n",
    "            if i <= 5:\n",
    "                print(line)\n",
    "    \n",
    "print(f'len of train job flie: {i}')\n",
    "print(f'len of train jobs: {len(job_dict)}')\n",
    "\n",
    "\n",
    "nums = list()\n",
    "\n",
    "for key in job_dict:\n",
    "    nums.append(len(job_dict[key]))\n",
    "\n",
    "plt.figure()\n",
    "plt.hist(nums, bins=16, align='left', rwidth=0.8)\n",
    "plt.show()\n"
   ]
  },
  {
   "cell_type": "code",
   "execution_count": 4,
   "metadata": {},
   "outputs": [
    {
     "name": "stdout",
     "output_type": "stream",
     "text": [
      "['companyID', 'jobID', 'companySize']\n",
      "733\n",
      "{'', '1-10', '101-200', '11-50', '1000 이상', '201-500', '501-1000', '51-100'}\n",
      "276\n"
     ]
    }
   ],
   "source": [
    "company_set = set()\n",
    "jobs_set = set()\n",
    "company_size_set = set()\n",
    "\n",
    "\n",
    "with open('train_job/job_companies.csv', 'r') as f:\n",
    "    csv_reader = csv.reader(f)\n",
    "    \n",
    "    for i, line in enumerate(csv_reader):\n",
    "        \n",
    "        if i == 0:\n",
    "            print(line)\n",
    "            pass\n",
    "        else:\n",
    "            company_set.add(line[0])\n",
    "            jobs_set.add(line[1])\n",
    "            company_size_set.add(line[2])\n",
    "    \n",
    "    print(i)\n",
    "    \n",
    "print(company_size_set)\n",
    "\n",
    "print(len(company_set))"
   ]
  },
  {
   "cell_type": "code",
   "execution_count": 5,
   "metadata": {
    "scrolled": false
   },
   "outputs": [
    {
     "name": "stdout",
     "output_type": "stream",
     "text": [
      "['userID', 'tagID']\n",
      "['e576423831e043f7928d9ac113abbe6f', '82c2559140b95ccda9c6ca4a8b981f1e']\n",
      "['e576423831e043f7928d9ac113abbe6f', '2ba8698b79439589fdd2b0f7218d8b07']\n",
      "['e576423831e043f7928d9ac113abbe6f', '351b33587c5fdd93bd42ef7ac9995a28']\n",
      "['e576423831e043f7928d9ac113abbe6f', '81e5f81db77c596492e6f1a5a792ed53']\n",
      "['e576423831e043f7928d9ac113abbe6f', '0e095e054ee94774d6a496099eb1cf6a']\n",
      "['e576423831e043f7928d9ac113abbe6f', 'e4873aa9a05cc5ed839561d121516766']\n",
      "['3532ee676d13916210e903ff4d85c04f', 'aace49c7d80767cffec0e513ae886df0']\n",
      "['3532ee676d13916210e903ff4d85c04f', 'f91e24dfe80012e2a7984afa4480a6d6']\n",
      "['3203e06c1efc6fdb23016650d1d1888c', '884d79963bd8bc0ae9b13a1aa71add73']\n",
      "['3203e06c1efc6fdb23016650d1d1888c', 'a58149d355f02887dfbe55ebb2b64ba3']\n",
      "17194\n",
      "\n",
      "196\n",
      "e576423831e043f7928d9ac113abbe6f => 112\n",
      "3532ee676d13916210e903ff4d85c04f => 20\n",
      "\n",
      "17194\n"
     ]
    }
   ],
   "source": [
    "user_dict = dict()\n",
    "\n",
    "with open('train_job/user_tags.csv', 'r') as f:\n",
    "    csv_reader = csv.reader(f)\n",
    "    \n",
    "    for i, line in enumerate(csv_reader):\n",
    "        \n",
    "        if i != 0:\n",
    "    \n",
    "            try:\n",
    "                user_dict[line[0]].append(line[1])\n",
    "            except KeyError:\n",
    "                user_dict[line[0]] = [line[1]]\n",
    "        if i <= 10:\n",
    "            print(line)\n",
    "\n",
    "    print(i)\n",
    "\n",
    "print()\n",
    "    \n",
    "print(len(user_dict))\n",
    "    \n",
    "for i, key in enumerate(user_dict):\n",
    "    if i == 2:\n",
    "        break\n",
    "    print(f'{key} => {len(user_dict[key])}')\n",
    "  \n",
    "print()\n",
    "\n",
    "sum_of_len = 0\n",
    "for i, key in enumerate(user_dict):\n",
    "    sum_of_len += len(user_dict[key])\n",
    "    \n",
    "print(sum_of_len)"
   ]
  },
  {
   "cell_type": "code",
   "execution_count": 6,
   "metadata": {},
   "outputs": [
    {
     "name": "stdout",
     "output_type": "stream",
     "text": [
      "['tagID', 'keyword']\n",
      "['602d1305678a8d5fdb372271e980da6a', 'Amazon Web Services(AWS)']\n",
      "['e3251075554389fe91d17a794861d47b', 'Tensorflow']\n",
      "['a1d50185e7426cbb0acad1e6ca74b9aa', 'Docker']\n",
      "['884d79963bd8bc0ae9b13a1aa71add73', 'Git']\n",
      "887\n"
     ]
    }
   ],
   "source": [
    "tag_dictionary = dict()\n",
    "tag_idx_to_tag_list = list()\n",
    "\n",
    "with open('train_job/tags.csv', 'r') as f:\n",
    "    csv_reader = csv.reader(f)\n",
    "    \n",
    "    for i, line in enumerate(csv_reader):\n",
    "        \n",
    "        if i != 0:\n",
    "            tag_dictionary[line[0]] = i - 1\n",
    "            tag_idx_to_tag_list.append(line)\n",
    "            assert len(tag_idx_to_tag_list) == i\n",
    "        \n",
    "        if i >= 5:\n",
    "            pass\n",
    "        else:\n",
    "            print(line)\n",
    "    \n",
    "    print(i)\n",
    "    \n",
    "def tagID2Vector(tag_list):\n",
    "    vector = np.zeros(len(tag_dictionary))\n",
    "    \n",
    "    for tag in tag_list:\n",
    "        vector[tag_dictionary[tag]] = 1\n",
    "    \n",
    "    return vector\n",
    "\n",
    "def jobID2Vector(job_id):\n",
    "    vector = np.zeros(len(tag_dictionary))\n",
    "    for tag in job_dict[job_id]:\n",
    "        vector[tag_dictionary[tag]] = 1\n",
    "    assert np.sum(vector) == len(job_dict[job_id])\n",
    "    return vector\n",
    "    "
   ]
  },
  {
   "cell_type": "code",
   "execution_count": 7,
   "metadata": {},
   "outputs": [],
   "source": [
    "user_vector_dict = dict()\n",
    "job_vector_dict = dict()\n",
    "\n",
    "for user in user_dict:\n",
    "#     print(user)\n",
    "    user_skill_set = set(user_dict[user])\n",
    "    vector = tagID2Vector(user_skill_set)\n",
    "    assert len(user_skill_set) == np.sum(vector), ''\n",
    "    \n",
    "for job in job_dict:\n",
    "    vector = jobID2Vector(job)\n",
    "#     print(vector)\n",
    "#     break\n"
   ]
  },
  {
   "cell_type": "code",
   "execution_count": 8,
   "metadata": {},
   "outputs": [],
   "source": [
    "# tag_idx_to_tag_list"
   ]
  },
  {
   "cell_type": "code",
   "execution_count": 9,
   "metadata": {
    "scrolled": true
   },
   "outputs": [],
   "source": [
    "# tag_dictionary"
   ]
  },
  {
   "cell_type": "code",
   "execution_count": 10,
   "metadata": {},
   "outputs": [
    {
     "data": {
      "text/plain": [
       "{'0e095e054ee94774d6a496099eb1cf6a',\n",
       " '285ab9448d2751ee57ece7f762c39095',\n",
       " '285f89b802bcb2651801455c86d78f2a',\n",
       " '3948ead63a9f2944218de038d8934305',\n",
       " '4da04049a062f5adfe81b67dd755cecc'}"
      ]
     },
     "execution_count": 10,
     "metadata": {},
     "output_type": "execute_result"
    }
   ],
   "source": [
    "set(user_dict[user])"
   ]
  },
  {
   "cell_type": "code",
   "execution_count": null,
   "metadata": {},
   "outputs": [],
   "source": []
  }
 ],
 "metadata": {
  "kernelspec": {
   "display_name": "Python 3",
   "language": "python",
   "name": "python3"
  },
  "language_info": {
   "codemirror_mode": {
    "name": "ipython",
    "version": 3
   },
   "file_extension": ".py",
   "mimetype": "text/x-python",
   "name": "python",
   "nbconvert_exporter": "python",
   "pygments_lexer": "ipython3",
   "version": "3.7.5"
  }
 },
 "nbformat": 4,
 "nbformat_minor": 2
}
