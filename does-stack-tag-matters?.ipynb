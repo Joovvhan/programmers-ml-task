{
 "cells": [
  {
   "cell_type": "code",
   "execution_count": 1,
   "metadata": {},
   "outputs": [],
   "source": [
    "import matplotlib.pyplot as plt\n",
    "import csv\n",
    "import numpy as np"
   ]
  },
  {
   "cell_type": "code",
   "execution_count": 2,
   "metadata": {},
   "outputs": [],
   "source": [
    "from tqdm.notebook import tqdm"
   ]
  },
  {
   "cell_type": "code",
   "execution_count": 3,
   "metadata": {},
   "outputs": [],
   "source": [
    "dataset_train = list()\n",
    "\n",
    "\n",
    "# 1. Train Data Pairs\n",
    "with open('train_job/train.csv', 'r') as f:\n",
    "    csv_reader = csv.reader(f)\n",
    "    \n",
    "    for i, line in enumerate(csv_reader):\n",
    "\n",
    "        if i == 0:\n",
    "            pass\n",
    "        else:\n",
    "            dataset_train.append([line[0], line[1], int(line[2])])\n",
    "\n",
    "# 2. Job id to number/ Job tags\n",
    "\n",
    "job_dict = dict()\n",
    "\n",
    "with open('train_job/job_tags.csv', 'r') as f:\n",
    "    csv_reader = csv.reader(f)\n",
    "    \n",
    "    for i, line in enumerate(csv_reader):\n",
    "        \n",
    "        if i == 0:\n",
    "            pass\n",
    "        else:\n",
    "            try:\n",
    "                job_dict[line[0]].append(line[1])\n",
    "            except KeyError:\n",
    "                job_dict[line[0]] = [line[1]]\n",
    "                \n",
    "# 3. Job id to company code and size. Not using right now\n",
    "                \n",
    "company_set = set()\n",
    "jobs_set = set()\n",
    "company_size_set = set()\n",
    "job_id_to_com_size_dict = dict()\n",
    "\n",
    "scales = {'': 0, \n",
    "          '1-10': 1, \n",
    "          '11-50': 2, \n",
    "          '51-100': 3, \n",
    "          '101-200': 4, \n",
    "          '201-500': 5, \n",
    "          '501-1000': 6, \n",
    "          '1000 이상': 7}\n",
    "\n",
    "with open('train_job/job_companies.csv', 'r') as f:\n",
    "    csv_reader = csv.reader(f)\n",
    "    \n",
    "    for i, line in enumerate(csv_reader):\n",
    "        \n",
    "        if i == 0:\n",
    "            pass\n",
    "#             print(line)\n",
    "        else:\n",
    "            company_set.add(line[0])\n",
    "            jobs_set.add(line[1])\n",
    "            company_size_set.add(line[2])\n",
    "            job_id_to_com_size_dict[line[1]] = scales[line[2]]\n",
    "\n",
    "# 4. User skills\n",
    "            \n",
    "user_dict = dict()\n",
    "\n",
    "with open('train_job/user_tags.csv', 'r') as f:\n",
    "    csv_reader = csv.reader(f)\n",
    "    \n",
    "    for i, line in enumerate(csv_reader):\n",
    "        \n",
    "        if i != 0:\n",
    "    \n",
    "            try:\n",
    "                user_dict[line[0]].append(line[1])\n",
    "            except KeyError:\n",
    "                user_dict[line[0]] = [line[1]]\n",
    "\n",
    "# 5. Job required skills\n",
    "                \n",
    "tag_dictionary = dict()\n",
    "tag_idx_to_tag_list = list()\n",
    "\n",
    "with open('train_job/tags.csv', 'r') as f:\n",
    "    csv_reader = csv.reader(f)\n",
    "    \n",
    "    for i, line in enumerate(csv_reader):\n",
    "        \n",
    "        if i != 0:\n",
    "            tag_dictionary[line[0]] = i - 1\n",
    "            tag_idx_to_tag_list.append(line)\n",
    "            assert len(tag_idx_to_tag_list) == i\n",
    "    \n",
    "def tagID2Vector(tag_list):\n",
    "    vector = np.zeros(len(tag_dictionary))\n",
    "    \n",
    "    for tag in tag_list:\n",
    "        vector[tag_dictionary[tag]] = 1\n",
    "    \n",
    "    return vector\n",
    "\n",
    "def jobID2Vector(job_id):\n",
    "    vector = np.zeros(len(tag_dictionary))\n",
    "    for tag in job_dict[job_id]:\n",
    "        vector[tag_dictionary[tag]] = 1\n",
    "    assert np.sum(vector) == len(job_dict[job_id]), f'{np.sum(vector)} != {len(job_dict[job_id])}'\n",
    "    return vector\n",
    "\n",
    "def jobID2CompanyScale(job_id):\n",
    "    vector = np.zeros(len(tag_dictionary))\n",
    "    for tag in job_dict[job_id]:\n",
    "        vector[tag_dictionary[tag]] = 1\n",
    "    assert np.sum(vector) == len(job_dict[job_id]), f'{np.sum(vector)} != {len(job_dict[job_id])}'\n",
    "    return vector"
   ]
  },
  {
   "cell_type": "code",
   "execution_count": 13,
   "metadata": {},
   "outputs": [],
   "source": [
    "tag_counter = dict()\n",
    "\n",
    "with open('train_job/user_tags.csv', 'r') as f:\n",
    "    csv_reader = csv.reader(f)\n",
    "    \n",
    "    for i, line in enumerate(csv_reader):\n",
    "        \n",
    "        if i != 0:\n",
    "    \n",
    "            try:\n",
    "                tag_counter[line[1]] += 1\n",
    "            except KeyError:\n",
    "                tag_counter[line[1]] = 1"
   ]
  },
  {
   "cell_type": "code",
   "execution_count": 32,
   "metadata": {},
   "outputs": [
    {
     "data": {
      "image/png": "[encoded data removed]",
      "text/plain": [
       "<Figure size 432x288 with 1 Axes>"
      ]
     },
     "metadata": {
      "needs_background": "light"
     },
     "output_type": "display_data"
    },
    {
     "name": "stdout",
     "output_type": "stream",
     "text": [
      "345\n",
      "150 16339\n"
     ]
    }
   ],
   "source": [
    "counts = list()\n",
    "for key in tag_counter:\n",
    "    counts.append(tag_counter[key])\n",
    "    \n",
    "plt.figure()\n",
    "plt.plot(sorted(counts))\n",
    "plt.show()\n",
    "    \n",
    "print(len(tag_counter))\n",
    "\n",
    "sum_counts = sum(counts)\n",
    "\n",
    "sorted_counts = sorted(counts)\n",
    "\n",
    "partial_sum = 0\n",
    "for i, count in reversed(list(enumerate(sorted_counts))):\n",
    "    partial_sum += count\n",
    "    if partial_sum > sum_counts * 0.95:\n",
    "        print(i, partial_sum)\n",
    "        break"
   ]
  },
  {
   "cell_type": "code",
   "execution_count": 17,
   "metadata": {},
   "outputs": [],
   "source": [
    "tag_counter_2 = dict()\n",
    "\n",
    "with open('train_job/job_tags.csv', 'r') as f:\n",
    "    csv_reader = csv.reader(f)\n",
    "    \n",
    "    for i, line in enumerate(csv_reader):\n",
    "        \n",
    "        if i == 0:\n",
    "            pass\n",
    "        else:\n",
    "            try:\n",
    "                tag_counter_2[line[1]] += 1\n",
    "            except KeyError:\n",
    "                tag_counter_2[line[1]] = 1"
   ]
  },
  {
   "cell_type": "code",
   "execution_count": 33,
   "metadata": {},
   "outputs": [
    {
     "data": {
      "image/png": "[encoded data removed]",
      "text/plain": [
       "<Figure size 432x288 with 1 Axes>"
      ]
     },
     "metadata": {
      "needs_background": "light"
     },
     "output_type": "display_data"
    },
    {
     "name": "stdout",
     "output_type": "stream",
     "text": [
      "345\n",
      "123 3305\n"
     ]
    }
   ],
   "source": [
    "counts = list()\n",
    "for key in tag_counter_2:\n",
    "    counts.append(tag_counter_2[key])\n",
    "    \n",
    "plt.figure()\n",
    "plt.plot(sorted(counts))\n",
    "plt.show()\n",
    "    \n",
    "print(len(tag_counter))\n",
    "\n",
    "sum_counts = sum(counts)\n",
    "\n",
    "sorted_counts = sorted(counts)\n",
    "\n",
    "partial_sum = 0\n",
    "for i, count in reversed(list(enumerate(sorted_counts))):\n",
    "    partial_sum += count\n",
    "    if partial_sum > sum_counts * 0.95:\n",
    "        print(i, partial_sum)\n",
    "        break"
   ]
  },
  {
   "cell_type": "code",
   "execution_count": 24,
   "metadata": {},
   "outputs": [
    {
     "name": "stdout",
     "output_type": "stream",
     "text": [
      "345\n",
      "240\n",
      "585\n",
      "419\n"
     ]
    }
   ],
   "source": [
    "key_list = list()\n",
    "\n",
    "for key in tag_counter:\n",
    "    key_list.append(key)\n",
    "\n",
    "for key in tag_counter_2:\n",
    "    key_list.append(key)\n",
    "\n",
    "print(len(tag_counter))\n",
    "\n",
    "print(len(tag_counter_2))\n",
    "    \n",
    "print(len(key_list))\n",
    "    \n",
    "print(len(set(key_list)))\n",
    "    \n",
    "    "
   ]
  },
  {
   "cell_type": "code",
   "execution_count": 7,
   "metadata": {},
   "outputs": [],
   "source": [
    "counter = [0 for i in range(8)]\n",
    "all_counter = [0 for i in range(8)]\n",
    "\n",
    "for i, elem in enumerate(dataset_train):\n",
    "    user, job, apply = elem\n",
    "    counter[job_id_to_com_size_dict[job]] += apply\n",
    "    all_counter[job_id_to_com_size_dict[job]] += 1"
   ]
  },
  {
   "cell_type": "code",
   "execution_count": 11,
   "metadata": {},
   "outputs": [
    {
     "data": {
      "image/png": "[encoded data removed]",
      "text/plain": [
       "<Figure size 432x288 with 1 Axes>"
      ]
     },
     "metadata": {
      "needs_background": "light"
     },
     "output_type": "display_data"
    },
    {
     "data": {
      "image/png": "[encoded data removed]",
      "text/plain": [
       "<Figure size 432x288 with 1 Axes>"
      ]
     },
     "metadata": {
      "needs_background": "light"
     },
     "output_type": "display_data"
    },
    {
     "data": {
      "image/png": "[encoded data removed]",
      "text/plain": [
       "<Figure size 432x288 with 1 Axes>"
      ]
     },
     "metadata": {
      "needs_background": "light"
     },
     "output_type": "display_data"
    }
   ],
   "source": [
    "plt.figure()\n",
    "plt.plot(counter)\n",
    "plt.show()\n",
    "\n",
    "plt.figure()\n",
    "plt.plot(all_counter)\n",
    "plt.show()\n",
    "\n",
    "plt.figure()\n",
    "plt.plot( [c / ac for c, ac in zip (counter, all_counter)])\n",
    "plt.show()"
   ]
  },
  {
   "cell_type": "code",
   "execution_count": null,
   "metadata": {},
   "outputs": [],
   "source": []
  }
 ],
 "metadata": {
  "kernelspec": {
   "display_name": "Python 3",
   "language": "python",
   "name": "python3"
  },
  "language_info": {
   "codemirror_mode": {
    "name": "ipython",
    "version": 3
   },
   "file_extension": ".py",
   "mimetype": "text/x-python",
   "name": "python",
   "nbconvert_exporter": "python",
   "pygments_lexer": "ipython3",
   "version": "3.7.5"
  }
 },
 "nbformat": 4,
 "nbformat_minor": 2
}
