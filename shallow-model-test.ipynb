{
 "cells": [
  {
   "cell_type": "code",
   "execution_count": 5,
   "metadata": {},
   "outputs": [],
   "source": [
    "import matplotlib.pyplot as plt\n",
    "import csv\n",
    "import numpy as np\n",
    "import torch\n",
    "from torch import nn, optim"
   ]
  },
  {
   "cell_type": "code",
   "execution_count": 6,
   "metadata": {},
   "outputs": [],
   "source": [
    "from tqdm.notebook import tqdm"
   ]
  },
  {
   "cell_type": "code",
   "execution_count": 7,
   "metadata": {},
   "outputs": [],
   "source": [
    "import torch.nn.functional as F"
   ]
  },
  {
   "cell_type": "code",
   "execution_count": 8,
   "metadata": {},
   "outputs": [],
   "source": [
    "from torch.utils.data import Dataset, DataLoader"
   ]
  },
  {
   "cell_type": "code",
   "execution_count": 9,
   "metadata": {},
   "outputs": [],
   "source": [
    "if torch.cuda.is_available():\n",
    "    device = torch.device(\"cuda\")  "
   ]
  },
  {
   "cell_type": "code",
   "execution_count": 10,
   "metadata": {},
   "outputs": [],
   "source": [
    "dataset_train = list()\n",
    "\n",
    "\n",
    "# 1. Train Data Pairs\n",
    "with open('train_job/train.csv', 'r') as f:\n",
    "    csv_reader = csv.reader(f)\n",
    "    \n",
    "    for i, line in enumerate(csv_reader):\n",
    "\n",
    "        if i == 0:\n",
    "            pass\n",
    "        else:\n",
    "            dataset_train.append([line[0], line[1], int(line[2])])\n",
    "\n",
    "# 2. Job id to number/ Job tags\n",
    "\n",
    "job_dict = dict()\n",
    "\n",
    "with open('train_job/job_tags.csv', 'r') as f:\n",
    "    csv_reader = csv.reader(f)\n",
    "    \n",
    "    for i, line in enumerate(csv_reader):\n",
    "        \n",
    "        if i == 0:\n",
    "            pass\n",
    "        else:\n",
    "            try:\n",
    "                job_dict[line[0]].append(line[1])\n",
    "            except KeyError:\n",
    "                job_dict[line[0]] = [line[1]]\n",
    "                \n",
    "# 3. Job id to company code and size. Not using right now\n",
    "                \n",
    "company_set = set()\n",
    "jobs_set = set()\n",
    "company_size_set = set()\n",
    "job_id_to_com_size_dict = dict()\n",
    "\n",
    "scales = {'': 0, \n",
    "          '1-10': 1, \n",
    "          '11-50': 2, \n",
    "          '51-100': 3, \n",
    "          '101-200': 4, \n",
    "          '201-500': 5, \n",
    "          '501-1000': 6, \n",
    "          '1000 이상': 7}\n",
    "\n",
    "with open('train_job/job_companies.csv', 'r') as f:\n",
    "    csv_reader = csv.reader(f)\n",
    "    \n",
    "    for i, line in enumerate(csv_reader):\n",
    "        \n",
    "        if i == 0:\n",
    "            pass\n",
    "#             print(line)\n",
    "        else:\n",
    "            company_set.add(line[0])\n",
    "            jobs_set.add(line[1])\n",
    "            company_size_set.add(line[2])\n",
    "            job_id_to_com_size_dict[line[1]] = scales[line[2]]\n",
    "\n",
    "# 4. User skills\n",
    "            \n",
    "user_dict = dict()\n",
    "\n",
    "with open('train_job/user_tags.csv', 'r') as f:\n",
    "    csv_reader = csv.reader(f)\n",
    "    \n",
    "    for i, line in enumerate(csv_reader):\n",
    "        \n",
    "        if i != 0:\n",
    "    \n",
    "            try:\n",
    "                user_dict[line[0]].append(line[1])\n",
    "            except KeyError:\n",
    "                user_dict[line[0]] = [line[1]]\n",
    "\n",
    "# 5. Job required skills\n",
    "                \n",
    "tag_dictionary = dict()\n",
    "tag_idx_to_tag_list = list()\n",
    "\n",
    "with open('train_job/tags.csv', 'r') as f:\n",
    "    csv_reader = csv.reader(f)\n",
    "    \n",
    "    for i, line in enumerate(csv_reader):\n",
    "        \n",
    "        if i != 0:\n",
    "            tag_dictionary[line[0]] = i - 1\n",
    "            tag_idx_to_tag_list.append(line)\n",
    "            assert len(tag_idx_to_tag_list) == i\n",
    "    \n",
    "def tagID2Vector(tag_list):\n",
    "    vector = np.zeros(len(tag_dictionary))\n",
    "    \n",
    "    for tag in tag_list:\n",
    "        vector[tag_dictionary[tag]] = 1\n",
    "    \n",
    "    return vector\n",
    "\n",
    "def jobID2Vector(job_id):\n",
    "    vector = np.zeros(len(tag_dictionary))\n",
    "    for tag in job_dict[job_id]:\n",
    "        vector[tag_dictionary[tag]] = 1\n",
    "    assert np.sum(vector) == len(job_dict[job_id]), f'{np.sum(vector)} != {len(job_dict[job_id])}'\n",
    "    return vector\n",
    "\n",
    "def jobID2CompanyScale(job_id):\n",
    "    vector = np.zeros(len(tag_dictionary))\n",
    "    for tag in job_dict[job_id]:\n",
    "        vector[tag_dictionary[tag]] = 1\n",
    "    assert np.sum(vector) == len(job_dict[job_id]), f'{np.sum(vector)} != {len(job_dict[job_id])}'\n",
    "    return vector"
   ]
  },
  {
   "cell_type": "code",
   "execution_count": 11,
   "metadata": {
    "scrolled": false
   },
   "outputs": [],
   "source": [
    "for job in job_dict:\n",
    "    assert len(job_dict[job]) == len(set(job_dict[job]))"
   ]
  },
  {
   "cell_type": "code",
   "execution_count": 12,
   "metadata": {},
   "outputs": [],
   "source": [
    "def collate_function(data_input):\n",
    "\n",
    "    global user_dict\n",
    "    \n",
    "    person_id_list = list()\n",
    "    job_id_list = list()\n",
    "    answer = list()\n",
    "\n",
    "    for data in data_input:\n",
    "        person_id_list.append(data[0])\n",
    "        job_id_list.append(data[1])\n",
    "        answer.append(data[2])\n",
    "    \n",
    "    person_tensor = list()\n",
    "    for person_id in person_id_list:\n",
    "        user_skill_set = set(user_dict[person_id])\n",
    "        vector = tagID2Vector(user_skill_set)\n",
    "        person_tensor.append(vector)\n",
    "    person_tensor = torch.tensor(person_tensor)\n",
    "        \n",
    "    job_tensor = list()\n",
    "    for job_id in job_id_list:\n",
    "        vector = jobID2Vector(job_id)\n",
    "        job_tensor.append(vector)\n",
    "    job_tensor = torch.tensor(job_tensor)\n",
    "        \n",
    "    answer_tensor = torch.tensor(answer)\n",
    "      \n",
    "    com_size_tensor = list()\n",
    "    for job_id in job_id_list:\n",
    "        com_size_tensor.append(job_id_to_com_size_dict[job_id])\n",
    "    com_size_tensor = torch.unsqueeze(torch.tensor(com_size_tensor), 1) / 7\n",
    "    \n",
    "        \n",
    "    return person_tensor, job_tensor, answer_tensor, com_size_tensor"
   ]
  },
  {
   "cell_type": "code",
   "execution_count": 13,
   "metadata": {},
   "outputs": [],
   "source": [
    "dataloader = DataLoader(dataset_train, \n",
    "                        batch_size=12, \n",
    "                        shuffle=True, \n",
    "                        num_workers=4, \n",
    "                        collate_fn=collate_function)"
   ]
  },
  {
   "cell_type": "code",
   "execution_count": 53,
   "metadata": {
    "scrolled": false
   },
   "outputs": [
    {
     "data": {
      "application/vnd.jupyter.widget-view+json": {
       "model_id": "ad714ff38fcd464c9340f03353c8e7ca",
       "version_major": 2,
       "version_minor": 0
      },
      "text/plain": [
       "HBox(children=(IntProgress(value=1, bar_style='info', max=1), HTML(value='')))"
      ]
     },
     "metadata": {},
     "output_type": "display_data"
    },
    {
     "name": "stdout",
     "output_type": "stream",
     "text": [
      "\n"
     ]
    }
   ],
   "source": [
    "count = [0 for i in range(20)]\n",
    "count_all = [0 for i in range(20)]\n",
    "\n",
    "for i, (p_tensor, j_tensor, a_tensor, c_tensor) in tqdm(enumerate(dataloader)):\n",
    "    match_t = torch.matmul(p_tensor, j_tensor.T)\n",
    "    match_num = [match_t[i][i] for i in range(len(match_t))]\n",
    "    \n",
    "    for m, c in zip(match_num, c_tensor):\n",
    "        count[int(m)] += c.numpy()[0]\n",
    "        count_all[int(m)] += 1\n",
    "    "
   ]
  },
  {
   "cell_type": "code",
   "execution_count": 54,
   "metadata": {},
   "outputs": [
    {
     "data": {
      "text/plain": [
       "[1633, 1926, 1325, 711, 264, 92, 41, 6, 2, 0, 0, 0, 0, 0, 0, 0, 0, 0, 0, 0]"
      ]
     },
     "execution_count": 54,
     "metadata": {},
     "output_type": "execute_result"
    }
   ],
   "source": [
    "count_all"
   ]
  },
  {
   "cell_type": "code",
   "execution_count": 55,
   "metadata": {},
   "outputs": [
    {
     "data": {
      "text/plain": [
       "[22, 44, 46, 32, 16, 10, 4, 0, 0, 0, 0, 0, 0, 0, 0, 0, 0, 0, 0, 0]"
      ]
     },
     "execution_count": 55,
     "metadata": {},
     "output_type": "execute_result"
    }
   ],
   "source": [
    "count"
   ]
  },
  {
   "cell_type": "code",
   "execution_count": 56,
   "metadata": {},
   "outputs": [
    {
     "data": {
      "text/plain": [
       "0.029"
      ]
     },
     "execution_count": 56,
     "metadata": {},
     "output_type": "execute_result"
    }
   ],
   "source": [
    "sum(count) / sum(count_all)"
   ]
  },
  {
   "cell_type": "code",
   "execution_count": null,
   "metadata": {},
   "outputs": [],
   "source": []
  }
 ],
 "metadata": {
  "kernelspec": {
   "display_name": "Python 3",
   "language": "python",
   "name": "python3"
  },
  "language_info": {
   "codemirror_mode": {
    "name": "ipython",
    "version": 3
   },
   "file_extension": ".py",
   "mimetype": "text/x-python",
   "name": "python",
   "nbconvert_exporter": "python",
   "pygments_lexer": "ipython3",
   "version": "3.7.5"
  }
 },
 "nbformat": 4,
 "nbformat_minor": 2
}
